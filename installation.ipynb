{
 "metadata": {
  "language_info": {
   "codemirror_mode": {
    "name": "ipython",
    "version": 3
   },
   "mimetype": "text/x-python",
   "name": "python",
   "pygments_lexer": "ipython3"
  },
  "name": "",
  "signature": "sha256:403f53b2499ea327a085fdf581268dc0adcdc648386d53ade172a1268dc1fffa"
 },
 "nbformat": 3,
 "nbformat_minor": 0,
 "worksheets": [
  {
   "cells": [
    {
     "cell_type": "heading",
     "level": 1,
     "metadata": {},
     "source": [
      "Installation"
     ]
    },
    {
     "cell_type": "heading",
     "level": 2,
     "metadata": {},
     "source": [
      "virtualenv"
     ]
    },
    {
     "cell_type": "markdown",
     "metadata": {},
     "source": [
      "[`virtualenv`](http://virtualenv.readthedocs.org) is a good way to provide a clean installation of python in a separate directory.  The advantage is that we have fine-grained control over which versions of packages are installed. \n",
      "\n",
      "To follow this route, first install `virtualenv` through the package manager of your system. For example in arch linux you do (as root)\n",
      "\n",
      "    pacman -S python-virtualenv\n",
      "    \n",
      "Then we can generate the virtual environment in a directory of your choice:\n",
      "\n",
      "    mkdir virtualenv\n",
      "    cd virtualenv\n",
      "    virtualenv venv\n",
      "    source ./venv/bin/activate\n",
      "    \n",
      "After that you have your PATH set up so that it will use the `python` and `pip` from `./venv/bin`.  You can now install `ipython` itself by doing \n",
      "\n",
      "    pip install ipython[notebook]\n",
      "    \n",
      "Alternatively you can install the development version of `ipython` through\n",
      "\n",
      "    git clone --recursive https://github.com/ipython/ipython.git\n",
      "    cd ./ipython\n",
      "    pip install -e \".[notebook]\"\n",
      "    cd ..\n",
      "    \n",
      "After that you should be able to check your installation of ipython via `ipython notebook`. \n",
      "\n",
      "Let us install a couple of other useful packages in our virtal environment:\n",
      "\n",
      "    pip install sphinx\n",
      "    pip install numpy\n",
      "    pip install matplotlib\n",
      "    pip install sympy\n",
      "    pip install pandas\n",
      "    \n",
      "This should set up for scientific computing using ipython. \n",
      "\n"
     ]
    },
    {
     "cell_type": "heading",
     "level": 2,
     "metadata": {},
     "source": [
      "Cloning the repository"
     ]
    },
    {
     "cell_type": "markdown",
     "metadata": {},
     "source": [
      "After setting up your python environment, now obtain the repository via\n",
      "\n",
      "    git clone git@github.com:andram/science-ipython-notebook.git\n",
      "\n",
      "If everything has worked out, you should be able to do \n",
      "\n",
      "    cd science-ipython-notebook\n",
      "    ipython notebook installation.ipynb\n",
      "    \n",
      "and see the current notebook coming up.    "
     ]
    }
   ],
   "metadata": {}
  }
 ]
}