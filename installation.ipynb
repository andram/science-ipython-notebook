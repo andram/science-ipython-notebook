{
 "metadata": {
  "language_info": {
   "codemirror_mode": {
    "name": "ipython",
    "version": 3
   },
   "mimetype": "text/x-python",
   "name": "python",
   "pygments_lexer": "ipython3"
  },
  "name": "",
  "signature": "sha256:ce4461ee90ad0e7b222cd5160860a02ef9bffad56b5a22b523b8d95e9eee14e2"
 },
 "nbformat": 3,
 "nbformat_minor": 0,
 "worksheets": [
  {
   "cells": [
    {
     "cell_type": "heading",
     "level": 1,
     "metadata": {},
     "source": [
      "Installation"
     ]
    },
    {
     "cell_type": "markdown",
     "metadata": {},
     "source": [
      "The following software is required to follow through this text:\n",
      "\n",
      "* [python](https://www.python.org/)\n",
      "* [ipython](http://ipython.org/)\n",
      "* [numpy](http://www.numpy.org/)\n",
      "* [matplotlib](http://matplotlib.org/)\n",
      "* [sympy](http://sympy.org/)\n",
      "\n",
      "All of this software is *open source* software. This means that it is freely available to everybody and the software is not controlled by a single company. In addition, you also have the right to study the source code and modify it freely. Even if you consider this as a rather abstract option, you might recognize this as the software equivalent of Newton's *standing on the shoulders of giants* credo.\n",
      "\n",
      "Depending on your operating system, you have a number of options for installing this software.  If you are using linux or Mac, a base installation of python might already be installed.  On linux you can then use the package managment system of your distribution to add the missing pieces. Here are some other options:"
     ]
    },
    {
     "cell_type": "heading",
     "level": 2,
     "metadata": {},
     "source": [
      "[Anaconda](https://store.continuum.io/cshop/anaconda/)"
     ]
    },
    {
     "cell_type": "markdown",
     "metadata": {},
     "source": [
      "This is an easy way to install a comprehensive and up-to-date set of python software, including everything that is required for the current text. The basic bundle is distributed for free by the company [Continuum analytics](http://www.continuum.io/).  They sell addon software for more specialized use. "
     ]
    },
    {
     "cell_type": "heading",
     "level": 2,
     "metadata": {},
     "source": [
      "[Enthought Canopy](https://www.enthought.com/products/canopy/)"
     ]
    },
    {
     "cell_type": "markdown",
     "metadata": {},
     "source": [
      "Canopy is an alternative bundle of python. "
     ]
    },
    {
     "cell_type": "heading",
     "level": 2,
     "metadata": {},
     "source": [
      "virtualenv"
     ]
    },
    {
     "cell_type": "markdown",
     "metadata": {},
     "source": [
      "[`virtualenv`](http://virtualenv.readthedocs.org) is a good way to provide a clean installation of python in a separate directory.  The advantage is that we have fine-grained control over which versions of packages are installed. \n",
      "\n",
      "To follow this route, first install `virtualenv` through the package manager of your system. For example in arch linux you do (as root)\n",
      "\n",
      "    pacman -S python-virtualenv\n",
      "    \n",
      "Then we can generate the virtual environment in a directory of your choice:\n",
      "\n",
      "    mkdir virtualenv\n",
      "    cd virtualenv\n",
      "    virtualenv venv\n",
      "    source ./venv/bin/activate\n",
      "    \n",
      "After that you have your PATH set up so that it will use the `python` and `pip` from `./venv/bin`.  You can now install `ipython` itself by doing \n",
      "\n",
      "    pip install ipython[notebook]\n",
      "    \n",
      "Alternatively you can install the development version of `ipython` through\n",
      "\n",
      "    git clone --recursive https://github.com/ipython/ipython.git\n",
      "    cd ./ipython\n",
      "    pip install -e \".[notebook]\"\n",
      "    cd ..\n",
      "    \n",
      "After that you should be able to check your installation of ipython via `ipython notebook`. \n",
      "\n",
      "Let us install a couple of other useful packages in our virtal environment:\n",
      "\n",
      "    pip install sphinx\n",
      "    pip install numpy\n",
      "    pip install matplotlib\n",
      "    pip install sympy\n",
      "    pip install pandas\n",
      "    \n",
      "This should set up for scientific computing using ipython. \n",
      "\n"
     ]
    },
    {
     "cell_type": "heading",
     "level": 2,
     "metadata": {},
     "source": [
      "Cloning the repository"
     ]
    },
    {
     "cell_type": "markdown",
     "metadata": {},
     "source": [
      "After setting up your python environment, now obtain the repository via\n",
      "\n",
      "    git clone git@github.com:andram/science-ipython-notebook.git\n",
      "\n",
      "If everything has worked out, you should be able to do \n",
      "\n",
      "    cd science-ipython-notebook\n",
      "    ipython notebook installation.ipynb\n",
      "    \n",
      "and see the current notebook coming up.    "
     ]
    },
    {
     "cell_type": "heading",
     "level": 2,
     "metadata": {},
     "source": [
      "Testing your installation"
     ]
    },
    {
     "cell_type": "markdown",
     "metadata": {},
     "source": [
      "After you have installed ipython and the other software packages mentioned before, test that you are able to start `ipython notebook`. On linux you simply type `ipython notebook` on the command line. \n",
      "\n",
      "If everything works, you should see a web browser starting, which shows the default interface for ipython, roughly looking as follows:\n",
      "\n",
      "![Startup IPython Notebook](startup-empty.png)\n",
      "\n",
      "In the following, we will assume that you have sucessfully managed to start the IPython Notebook in the way described. "
     ]
    },
    {
     "cell_type": "code",
     "collapsed": true,
     "input": [],
     "language": "python",
     "metadata": {},
     "outputs": [],
     "prompt_number": ""
    },
    {
     "cell_type": "code",
     "collapsed": true,
     "input": [],
     "language": "python",
     "metadata": {},
     "outputs": []
    }
   ],
   "metadata": {}
  }
 ]
}